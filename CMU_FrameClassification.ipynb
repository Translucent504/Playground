{
  "nbformat": 4,
  "nbformat_minor": 0,
  "metadata": {
    "colab": {
      "name": "CMUHW1P2.ipynb",
      "provenance": [],
      "collapsed_sections": [
        "w4q4BhIZA-tS",
        "Ihvk2-4kCQQO",
        "iUxuR9Kz02QE",
        "8GCB-ci-3eNc"
      ],
      "toc_visible": true,
      "machine_shape": "hm",
      "include_colab_link": true
    },
    "kernelspec": {
      "name": "python3",
      "display_name": "Python 3"
    },
    "accelerator": "GPU"
  },
  "cells": [
    {
      "cell_type": "markdown",
      "metadata": {
        "id": "view-in-github",
        "colab_type": "text"
      },
      "source": [
        "<a href=\"https://colab.research.google.com/github/Translucent504/Playground/blob/master/CMU_FrameClassification.ipynb\" target=\"_parent\"><img src=\"https://colab.research.google.com/assets/colab-badge.svg\" alt=\"Open In Colab\"/></a>"
      ]
    },
    {
      "cell_type": "code",
      "metadata": {
        "id": "HvO3IRiIw_Vb",
        "colab_type": "code",
        "colab": {}
      },
      "source": [
        "from google.colab import drive\n",
        "drive.mount('/content/drive')\n",
        "%cd /content/drive/My Drive/Colab Notebooks/CMUDL F19/Recitations/Recitation 4/GoodCodeStructureExample/code"
      ],
      "execution_count": 0,
      "outputs": []
    },
    {
      "cell_type": "markdown",
      "metadata": {
        "colab_type": "text",
        "id": "Ihvk2-4kCQQO"
      },
      "source": [
        "# **Playing**"
      ]
    },
    {
      "cell_type": "code",
      "metadata": {
        "colab_type": "code",
        "id": "_NUR4tDFCQQF",
        "colab": {}
      },
      "source": [
        "import paths\n",
        "import numpy as np\n",
        "import data\n",
        "import ffnnmodel\n",
        "import torch\n",
        "\n",
        "test = data.get_loader(\"test\")\n",
        "model = ffnnmodel.FFNN.load()\n",
        "\n",
        "\n",
        "def get_predictions(model, loader):\n",
        "    final_result = []\n",
        "    model.eval()\n",
        "    model.to(torch.device(\"cuda\"))\n",
        "    for x in loader:\n",
        "        x = x.to(torch.device(\"cuda\"))\n",
        "        output = model(x)\n",
        "        result = np.argmax(output.cpu().detach().numpy(), axis=1)\n",
        "        final_result.append(result)\n",
        "    return np.concatenate(final_result)\n",
        "\n",
        "results = get_predictions(model, test)"
      ],
      "execution_count": 0,
      "outputs": []
    },
    {
      "cell_type": "code",
      "metadata": {
        "colab_type": "code",
        "id": "6KMuJdYiCQPw",
        "colab": {}
      },
      "source": [
        "tmp = list(zip(range(len(results)), results))\n",
        "import csv\n",
        "with open('150x4val206.csv', 'w') as f:\n",
        "    writer = csv.writer(f)\n",
        "    writer.writerow(['id','label'])\n",
        "    writer.writerows(tmp)"
      ],
      "execution_count": 0,
      "outputs": []
    },
    {
      "cell_type": "code",
      "metadata": {
        "colab_type": "code",
        "id": "9ufjxdShCQPW",
        "colab": {}
      },
      "source": [
        "import data\n",
        "import ffnnmodel\n",
        "import routine\n",
        "import config\n",
        "import numpy as np\n",
        "\n",
        "# To run, make sure you have a data/ folder containing MNIST and a model/ folder along with your code/ folder\n",
        "\n",
        "def run():\n",
        "    train_loader = data.get_loader(\"train\")\n",
        "    val_loader = data.get_loader(\"val\")\n",
        "    test_loader = data.get_loader(\"test\")\n",
        "    #test_labels = data.get_test_labels()\n",
        "\n",
        "    if config.load_model:\n",
        "        model = ffnnmodel.FFNN.load()\n",
        "    else:\n",
        "        model = ffnnmodel.FFNN()\n",
        "\n",
        "    routine.train(model, train_loader, val_loader)\n",
        "    test_outputs = routine.predict(model, test_loader)\n",
        "    print((test_outputs))\n",
        "    try:\n",
        "    \tnp.savetxt('prediction.csv', test_outputs, delimiter=\",\")\n",
        "    except:\n",
        "        print(\"prediction not saved\")\n",
        "    #accuracy = (test_outputs == test_labels).mean()\n",
        "    #print(\"Test accuracy :\", accuracy)\n",
        "\n",
        "if __name__ == \"__main__\":\n",
        "    run()\n"
      ],
      "execution_count": 0,
      "outputs": []
    },
    {
      "cell_type": "markdown",
      "metadata": {
        "id": "b9-81RfCBP5d",
        "colab_type": "text"
      },
      "source": [
        "# **From Scratch**"
      ]
    },
    {
      "cell_type": "markdown",
      "metadata": {
        "id": "NIpWf_YD_VEo",
        "colab_type": "text"
      },
      "source": [
        "## **Setup Google Drive**"
      ]
    },
    {
      "cell_type": "code",
      "metadata": {
        "id": "N5RKs-Ym_X1k",
        "colab_type": "code",
        "outputId": "dbe3e95c-e998-4e93-d4a3-53c56fe4bf4e",
        "colab": {
          "base_uri": "https://localhost:8080/",
          "height": 51
        }
      },
      "source": [
        "from google.colab import drive\n",
        "drive.mount('/content/drive')\n",
        "%cd /content/drive/My Drive/Colab Notebooks/CMUDL F19/Recitations/Recitation 4/GoodCodeStructureExample/code"
      ],
      "execution_count": 0,
      "outputs": [
        {
          "output_type": "stream",
          "text": [
            "Drive already mounted at /content/drive; to attempt to forcibly remount, call drive.mount(\"/content/drive\", force_remount=True).\n",
            "/content/drive/My Drive/Colab Notebooks/CMUDL F19/Recitations/Recitation 4/GoodCodeStructureExample/code\n"
          ],
          "name": "stdout"
        }
      ]
    },
    {
      "cell_type": "markdown",
      "metadata": {
        "id": "6ALyPGif6c_s",
        "colab_type": "text"
      },
      "source": [
        "## **Imports**"
      ]
    },
    {
      "cell_type": "code",
      "metadata": {
        "id": "rRh-Aq2m6gmQ",
        "colab_type": "code",
        "colab": {}
      },
      "source": [
        "%matplotlib inline\n",
        "import time\n",
        "import torch\n",
        "import torch.nn as nn\n",
        "import numpy as np\n",
        "import csv\n",
        "import math\n",
        "import matplotlib\n",
        "import matplotlib.pyplot as plt\n",
        "\n",
        "from tqdm import tqdm\n",
        "from pathlib import Path\n",
        "from torch.utils.data import TensorDataset, DataLoader, Dataset"
      ],
      "execution_count": 0,
      "outputs": []
    },
    {
      "cell_type": "markdown",
      "metadata": {
        "id": "EBMb_Kfm5C3b",
        "colab_type": "text"
      },
      "source": [
        "## **Data Loading Cells**"
      ]
    },
    {
      "cell_type": "markdown",
      "metadata": {
        "id": "gU62jx37GJtC",
        "colab_type": "text"
      },
      "source": [
        "### WSJ Dataset"
      ]
    },
    {
      "cell_type": "code",
      "metadata": {
        "id": "wLWUu-uuGQpY",
        "colab_type": "code",
        "colab": {}
      },
      "source": [
        "class WSJDataset(Dataset):\n",
        "    \"\"\"\n",
        "    Expects data in the form of an array of recordings\n",
        "    each recording has N utterances or elements\n",
        "    each element is a 10ms frame represented by a 40 sized frequency/energy vector.\n",
        "    each element can then be interpretted as a phoneme.\n",
        "    \"\"\"\n",
        "    def __init__(self, X, Y=None):\n",
        "        self.Y = Y \n",
        "        if self.Y is not None:\n",
        "          tmp_Y = np.concatenate(tuple(Y[:]), axis=0)\n",
        "          self.Y = torch.from_numpy(tmp_Y).long()\n",
        "        self.context = CONTEXT\n",
        "        tmp_X = np.concatenate(tuple(X[:]), axis=0)\n",
        "        tmp_X = np.pad(tmp_X,((self.context, self.context),(0,0)), mode='reflect')\n",
        "        self.X = torch.from_numpy(tmp_X).float()\n",
        "        \n",
        "    def __len__(self):\n",
        "      if self.Y is not None:\n",
        "        return len(self.Y)\n",
        "      else:\n",
        "        return self.X.shape[0] - 2*self.context\n",
        "\n",
        "    def __getitem__(self,index):\n",
        "        X = self.X[index:index + 2*self.context+1].reshape(-1)  #flatten the input\n",
        "        if self.Y is not None:\n",
        "          Y = self.Y[index]\n",
        "          return X, Y\n",
        "        else:\n",
        "          return X"
      ],
      "execution_count": 0,
      "outputs": []
    },
    {
      "cell_type": "code",
      "metadata": {
        "id": "Y7teM1ky6BPs",
        "colab_type": "code",
        "colab": {}
      },
      "source": [
        "def get_loader(mode=\"train\"):\n",
        "    if mode == \"train\":\n",
        "        data_path = TRAIN_DPATH\n",
        "        labels_path = TRAIN_LPATH\n",
        "        shuffle = True\n",
        "    if mode == \"val\":\n",
        "        data_path = VALID_DPATH\n",
        "        labels_path = VALID_LPATH\n",
        "        shuffle = False\n",
        "    if mode == \"test\":\n",
        "        data_path = TEST_DPATH\n",
        "        labels_path = None\n",
        "        shuffle = False\n",
        "    data = np.load(data_path, allow_pickle=True)\n",
        "\n",
        "    if SANITY:\n",
        "        data = data[:SANITYSIZE]\n",
        "\n",
        "    if labels_path:\n",
        "        labels = np.load(labels_path, allow_pickle=True)\n",
        "        if SANITY:\n",
        "            labels = labels[:SANITYSIZE]\n",
        "        dataset = WSJDataset(data, labels)                                \n",
        "    else:\n",
        "        dataset = WSJDataset(data)\n",
        "    print(f\"{mode} Dataset Size: {len(dataset)}\")\n",
        "    dataloader = DataLoader(dataset, shuffle=shuffle, batch_size=BATCH_SIZE, drop_last=False)\n",
        "\n",
        "    return dataloader"
      ],
      "execution_count": 0,
      "outputs": []
    },
    {
      "cell_type": "markdown",
      "metadata": {
        "id": "-1ApfswZuVWi",
        "colab_type": "text"
      },
      "source": [
        "## Routine :"
      ]
    },
    {
      "cell_type": "code",
      "metadata": {
        "id": "mIbPcstwun2w",
        "colab_type": "code",
        "colab": {}
      },
      "source": [
        "def run_one_epoch(model, loader, criterion, update=True, optimizer=None, scheduler=None):\n",
        "    cum_loss = 0\n",
        "    plotloss = []\n",
        "    lrs = []\n",
        "    i = 0\n",
        "    corr_preds = 0\n",
        "    for x, y in tqdm(loader):\n",
        "        x = x.to(device)\n",
        "        y = y.to(device)\n",
        "        output = model(x)\n",
        "        loss = criterion(output, y)\n",
        "        if update:\n",
        "            lrplot = scheduler.get_lr()\n",
        "            lrs.append(lrplot)\n",
        "            if i % 1000 == 0:\n",
        "                print(f\"Learning rate: {lrplot}\")\n",
        "            loss.backward()\n",
        "            optimizer.step()\n",
        "            scheduler.step()\n",
        "            optimizer.zero_grad()\n",
        "        plotloss.append(loss.cpu().detach().numpy().item()) \n",
        "        # Per batch Accuracy data:\n",
        "        out = np.argmax(output.cpu().detach().numpy(), axis=1)\n",
        "        true = y.cpu().detach().numpy()\n",
        "        if WSJ and i % 1000 == 0:\n",
        "            print(f\"Current Batch Accuracy: {(np.sum(true==out)/len(true))*100}%\")\n",
        "        corr_preds += np.sum(true==out)\n",
        "        i+=1   \n",
        "        cum_loss += loss.cpu().detach().numpy().item()\n",
        "    # Overall per Epoch Accuracy\n",
        "    if update:\n",
        "        print(f\"Training Epoch Accuracy: {100*corr_preds/len(loader.dataset)}%\")\n",
        "        plt.plot(lrs, plotloss)\n",
        "        plt.xscale(\"log\")\n",
        "        plt.show()\n",
        "    else:\n",
        "        print(f\"Validation Epoch Accuracy: {100*corr_preds/len(loader.dataset)}%\")\n",
        "        plt.plot(plotloss)\n",
        "        plt.show()\n",
        "    return cum_loss/len(loader)"
      ],
      "execution_count": 0,
      "outputs": []
    },
    {
      "cell_type": "code",
      "metadata": {
        "id": "2FC6Fq8Vzkc-",
        "colab_type": "code",
        "colab": {}
      },
      "source": [
        "def lr_find(model, loader, optimizer, min_lr=1e-7, max_lr=1.0):\n",
        "    cum_loss = 0\n",
        "    plotloss = []\n",
        "    lrs = []\n",
        "    i = 0\n",
        "    n = math.log(number, 1.01)\n",
        "    corr_preds = 0\n",
        "    for x, y in tqdm(loader):\n",
        "        x = x.to(device)\n",
        "        y = y.to(device)\n",
        "        output = model(x)\n",
        "        loss = criterion(output, y)\n",
        "        lrs.append(lrplot)\n",
        "        loss.backward()\n",
        "        optimizer.step()\n",
        "        optimizer.zero_grad()\n",
        "        lr = optimizer.param_groups[0]['lr']\n",
        "        optimizer.param_groups[0]['lr'] = lr * 1.1\n",
        "        plotloss.append(loss.cpu().detach().numpy().item()) \n",
        "        i+=1   \n",
        "        cum_loss += loss.cpu().detach().numpy().item()\n",
        "\n",
        "    print(f\"Training Epoch Accuracy: {100*corr_preds/len(loader.dataset)}%\")\n",
        "    plt.plot(lrs, plotloss)\n",
        "    plt.xscale(\"log\")\n",
        "    plt.show()\n",
        "    return cum_loss/len(loader)\n",
        "\n"
      ],
      "execution_count": 0,
      "outputs": []
    },
    {
      "cell_type": "code",
      "metadata": {
        "id": "kUU_SFfTuZXw",
        "colab_type": "code",
        "colab": {}
      },
      "source": [
        "def train(model, train_dataloader, val_dataloader):\n",
        "    max_epoch = MAX_EPOCHS\n",
        "    lr = LEARNING_RATE\n",
        "    if SANITY:\n",
        "        max_epoch = SANITYEPOCH\n",
        "    criterion = nn.CrossEntropyLoss()\n",
        "    optimizer = torch.optim.Adam(model.parameters(), lr=LEARNING_RATE, weight_decay=0.0001)\n",
        "    scheduler = torch.optim.lr_scheduler.OneCycleLR(optimizer,max_lr=SCH_RATE,steps_per_epoch=len(train_dataloader), epochs=max_epoch)\n",
        "    model = model.to(device)\n",
        "    val_losses = []\n",
        "    train_losses = []\n",
        "    best_loss = 10000\n",
        "    print('Begin training')\n",
        "    for epoch in range(max_epoch):\n",
        "        start = time.time()\n",
        "        print(\"Epoch: \", epoch+1)\n",
        "        #print(\"Learning Rate: \", lr)\n",
        "        model.train()\n",
        "        train_loss = run_one_epoch(model, train_dataloader, criterion, True, optimizer, scheduler)\n",
        "        train_losses.append(train_loss)\n",
        "        print(\"Training loss: \", train_loss)\n",
        "        model.eval()\n",
        "        val_loss = run_one_epoch(model, val_dataloader, criterion, False)\n",
        "        val_losses.append(val_loss)\n",
        "        print(\"Validation loss: \", val_loss)\n",
        "        stop = time.time()\n",
        "        if val_loss < best_loss:\n",
        "            best_loss = val_loss\n",
        "            print(\"Saving Model....\")\n",
        "            model.save()\n",
        "        \n",
        "        print(f\"Time :{stop-start}s\")\n",
        "    return val_losses, train_losses\n",
        "    \n",
        "\n",
        "\n",
        "def get_predictions(model, loader):\n",
        "    final_result = []\n",
        "    model.eval()\n",
        "    model.to(torch.device(\"cuda\"))\n",
        "    for x in loader:\n",
        "        x = x.to(torch.device(\"cuda\"))\n",
        "        output = model(x)\n",
        "        result = np.argmax(output.cpu().detach().numpy(), axis=1)\n",
        "        final_result.append(result)\n",
        "    return np.concatenate(final_result)"
      ],
      "execution_count": 0,
      "outputs": []
    },
    {
      "cell_type": "markdown",
      "metadata": {
        "id": "NSuoxXaz6pXW",
        "colab_type": "text"
      },
      "source": [
        "## Model"
      ]
    },
    {
      "cell_type": "code",
      "metadata": {
        "id": "ewusyja36qYS",
        "colab_type": "code",
        "colab": {}
      },
      "source": [
        "class FFNN(nn.Sequential):\n",
        "\n",
        "    def __init__(self):\n",
        "        l = []\n",
        "        sizes = [INPUT_SIZE] + HIDDEN_SIZE + [NUM_CLASSES]\n",
        "        for i in range(len(sizes)-2):\n",
        "            l.append(nn.Linear(sizes[i], sizes[i+1]))\n",
        "            l.append(nn.BatchNorm1d(sizes[i+1]))\n",
        "            l.append(nn.ReLU())\n",
        "        l.append(nn.Linear(sizes[-2], sizes[-1]))\n",
        "        super(FFNN, self).__init__(*l)\n",
        "\n",
        "    @staticmethod\n",
        "    def load():\n",
        "        model = FFNN()\n",
        "        path = MODEL_PATH\n",
        "        model.load_state_dict(torch.load(path))\n",
        "\n",
        "        return model\n",
        "\n",
        "    def save(self):\n",
        "        path = MODEL_PATH\n",
        "        torch.save(self.state_dict(), path)"
      ],
      "execution_count": 0,
      "outputs": []
    },
    {
      "cell_type": "markdown",
      "metadata": {
        "id": "0otijjTb6HVV",
        "colab_type": "text"
      },
      "source": [
        "## **Config Cell**\n",
        "\n",
        "(𝐿𝑅 ∗ 𝑊𝐷)/(𝑇𝐵𝑆 ∗ (1 − α)) ≈ 𝑐𝑜𝑛𝑠𝑡𝑎𝑛𝑡\n",
        "\n",
        "α - momentum"
      ]
    },
    {
      "cell_type": "code",
      "metadata": {
        "id": "8hHH-jMi6ItZ",
        "colab_type": "code",
        "colab": {}
      },
      "source": [
        "# Data Parameters\n",
        "data_folder = Path(\"../float16/\")\n",
        "mnist_data_folder = Path(\"../data/\")\n",
        "WSJ = True\n",
        "if WSJ:\n",
        "  TRAIN_DPATH = data_folder/'train.npy' \n",
        "  TRAIN_LPATH = data_folder/'train_labels.npy'\n",
        "  VALID_DPATH = data_folder/'dev.npy'\n",
        "  VALID_LPATH = data_folder/'dev_labels.npy'\n",
        "  TEST_DPATH = data_folder/'test.npy'\n",
        "  MODEL_PATH = Path(\"../model/tqdm.pt\")\n",
        "  # Model Parameters\n",
        "  torch.manual_seed(0)\n",
        "  np.random.seed(0)\n",
        "  LOAD_MODEL = False\n",
        "  MAX_EPOCHS = 1\n",
        "  BATCH_SIZE = 1024\n",
        "  LEARNING_RATE = 1e-5\n",
        "  SCH_RATE = 5e-3\n",
        "  MOMENTUM = 0.9\n",
        "  CONTEXT = 15\n",
        "  INPUT_SIZE = 40 * (2*CONTEXT + 1)\n",
        "  HIDDEN_SIZE = [1240]*6\n",
        "  NUM_CLASSES = 138\n",
        "else:\n",
        "  TRAIN_DPATH = mnist_data_folder/'train.npy' \n",
        "  TRAIN_LPATH = mnist_data_folder/'train_labels.npy'\n",
        "  VALID_DPATH = mnist_data_folder/'dev.npy'\n",
        "  VALID_LPATH = mnist_data_folder/'dev_labels.npy'\n",
        "  TEST_DPATH = mnist_data_folder/'test.npy'\n",
        "  MODEL_PATH = Path(\"../model/MNISTMODEL.pt\")\n",
        "  # Model Parameters\n",
        "  torch.manual_seed(0)\n",
        "  np.random.seed(0)\n",
        "  LOAD_MODEL = False\n",
        "  MAX_EPOCHS = 10\n",
        "  BATCH_SIZE = 64\n",
        "  LEARNING_RATE = 1e-6\n",
        "  SCH_RATE = 1e-5\n",
        "  MOMENTUM = 0.9\n",
        "  INPUT_SIZE = 784\n",
        "  HIDDEN_SIZE = [512,512,512,512,512,512,512,512]\n",
        "  NUM_CLASSES = 10\n",
        "\n",
        "# Sanity / Training\n",
        "SANITY = False\n",
        "SANITYSIZE = 1100\n",
        "SANITYEPOCH = 2\n",
        "cuda = True\n",
        "device = \"cuda\" if cuda else \"cpu\""
      ],
      "execution_count": 0,
      "outputs": []
    },
    {
      "cell_type": "markdown",
      "metadata": {
        "id": "NNdP2TTc6YMu",
        "colab_type": "text"
      },
      "source": [
        "## Runtime"
      ]
    },
    {
      "cell_type": "code",
      "metadata": {
        "id": "KSV0_mTw6ZiI",
        "colab_type": "code",
        "colab": {}
      },
      "source": [
        "def run():\n",
        "    train_loader = get_loader(\"train\")\n",
        "    val_loader = get_loader(\"val\")\n",
        "\n",
        "    if LOAD_MODEL:\n",
        "        model = FFNN.load()\n",
        "    else:\n",
        "        model = FFNN()\n",
        "\n",
        "    val_losses, train_losses = train(model, train_loader, val_loader)\n",
        "    plt.plot(val_losses)\n",
        "    plt.plot(train_losses)\n",
        "    plt.title(\"Validation Loss\");\n",
        "    plt.xlabel(\"Iterations\");\n",
        "    plt.ylabel(\"Loss\");\n",
        "    return (val_losses, train_losses)"
      ],
      "execution_count": 0,
      "outputs": []
    },
    {
      "cell_type": "code",
      "metadata": {
        "id": "4Hcrp6RL_IkP",
        "colab_type": "code",
        "outputId": "74f40563-8c94-4503-a8a3-e57391ca47e5",
        "colab": {
          "base_uri": "https://localhost:8080/",
          "height": 1000
        }
      },
      "source": [
        "v,t=run();"
      ],
      "execution_count": 0,
      "outputs": [
        {
          "output_type": "stream",
          "text": [
            "train Dataset Size: 15388713\n"
          ],
          "name": "stdout"
        },
        {
          "output_type": "stream",
          "text": [
            "\r  0%|          | 0/15029 [00:00<?, ?it/s]"
          ],
          "name": "stderr"
        },
        {
          "output_type": "stream",
          "text": [
            "val Dataset Size: 675836\n",
            "Begin training\n",
            "Epoch:  1\n"
          ],
          "name": "stdout"
        },
        {
          "output_type": "stream",
          "text": [
            "\r  0%|          | 1/15029 [00:01<7:45:47,  1.86s/it]"
          ],
          "name": "stderr"
        },
        {
          "output_type": "stream",
          "text": [
            "Learning rate: [0.00019999999999999966]\n",
            "Current Batch Accuracy: 0.48828125%\n"
          ],
          "name": "stdout"
        },
        {
          "output_type": "stream",
          "text": [
            "  7%|▋         | 1003/15029 [01:04<17:51, 13.09it/s]"
          ],
          "name": "stderr"
        },
        {
          "output_type": "stream",
          "text": [
            "Learning rate: [0.0007596549238958116]\n",
            "Current Batch Accuracy: 32.8125%\n"
          ],
          "name": "stdout"
        },
        {
          "output_type": "stream",
          "text": [
            " 13%|█▎        | 2003/15029 [02:07<13:18, 16.31it/s]"
          ],
          "name": "stderr"
        },
        {
          "output_type": "stream",
          "text": [
            "Learning rate: [0.002177608334049224]\n",
            "Current Batch Accuracy: 36.328125%\n"
          ],
          "name": "stdout"
        },
        {
          "output_type": "stream",
          "text": [
            " 20%|█▉        | 3003/15029 [03:10<11:40, 17.17it/s]"
          ],
          "name": "stderr"
        },
        {
          "output_type": "stream",
          "text": [
            "Learning rate: [0.0037925563905875587]\n",
            "Current Batch Accuracy: 40.72265625%\n"
          ],
          "name": "stdout"
        },
        {
          "output_type": "stream",
          "text": [
            " 27%|██▋       | 4001/15029 [04:12<10:15, 17.91it/s]"
          ],
          "name": "stderr"
        },
        {
          "output_type": "stream",
          "text": [
            "Learning rate: [0.004851321067112773]\n",
            "Current Batch Accuracy: 35.44921875%\n"
          ],
          "name": "stdout"
        },
        {
          "output_type": "stream",
          "text": [
            " 33%|███▎      | 5003/15029 [05:14<09:53, 16.89it/s]"
          ],
          "name": "stderr"
        },
        {
          "output_type": "stream",
          "text": [
            "Learning rate: [0.0049730332180343674]\n",
            "Current Batch Accuracy: 41.796875%\n"
          ],
          "name": "stdout"
        },
        {
          "output_type": "stream",
          "text": [
            " 40%|███▉      | 6003/15029 [06:14<08:19, 18.06it/s]"
          ],
          "name": "stderr"
        },
        {
          "output_type": "stream",
          "text": [
            "Learning rate: [0.004755845387529389]\n",
            "Current Batch Accuracy: 42.08984375%\n"
          ],
          "name": "stdout"
        },
        {
          "output_type": "stream",
          "text": [
            " 47%|████▋     | 7003/15029 [07:14<07:26, 17.99it/s]"
          ],
          "name": "stderr"
        },
        {
          "output_type": "stream",
          "text": [
            "Learning rate: [0.004338983727986821]\n",
            "Current Batch Accuracy: 42.67578125%\n"
          ],
          "name": "stdout"
        },
        {
          "output_type": "stream",
          "text": [
            " 53%|█████▎    | 8003/15029 [08:14<07:28, 15.68it/s]"
          ],
          "name": "stderr"
        },
        {
          "output_type": "stream",
          "text": [
            "Learning rate: [0.003759346483046238]\n",
            "Current Batch Accuracy: 41.50390625%\n"
          ],
          "name": "stdout"
        },
        {
          "output_type": "stream",
          "text": [
            " 60%|█████▉    | 9003/15029 [09:14<05:39, 17.74it/s]"
          ],
          "name": "stderr"
        },
        {
          "output_type": "stream",
          "text": [
            "Learning rate: [0.0030682398733609304]\n",
            "Current Batch Accuracy: 46.6796875%\n"
          ],
          "name": "stdout"
        },
        {
          "output_type": "stream",
          "text": [
            " 67%|██████▋   | 10003/15029 [10:14<04:35, 18.27it/s]"
          ],
          "name": "stderr"
        },
        {
          "output_type": "stream",
          "text": [
            "Learning rate: [0.002326836759234407]\n",
            "Current Batch Accuracy: 47.8515625%\n"
          ],
          "name": "stdout"
        },
        {
          "output_type": "stream",
          "text": [
            " 73%|███████▎  | 11003/15029 [11:14<04:33, 14.71it/s]"
          ],
          "name": "stderr"
        },
        {
          "output_type": "stream",
          "text": [
            "Learning rate: [0.0016007619639478443]\n",
            "Current Batch Accuracy: 47.0703125%\n"
          ],
          "name": "stdout"
        },
        {
          "output_type": "stream",
          "text": [
            " 80%|███████▉  | 12003/15029 [12:14<02:49, 17.87it/s]"
          ],
          "name": "stderr"
        },
        {
          "output_type": "stream",
          "text": [
            "Learning rate: [0.0009542835344270105]\n",
            "Current Batch Accuracy: 47.16796875%\n"
          ],
          "name": "stdout"
        },
        {
          "output_type": "stream",
          "text": [
            " 87%|████████▋ | 13003/15029 [13:14<01:50, 18.38it/s]"
          ],
          "name": "stderr"
        },
        {
          "output_type": "stream",
          "text": [
            "Learning rate: [0.00044462409610203905]\n",
            "Current Batch Accuracy: 51.5625%\n"
          ],
          "name": "stdout"
        },
        {
          "output_type": "stream",
          "text": [
            " 93%|█████████▎| 14001/15029 [14:13<00:55, 18.58it/s]"
          ],
          "name": "stderr"
        },
        {
          "output_type": "stream",
          "text": [
            "Learning rate: [0.0001168958287525649]\n",
            "Current Batch Accuracy: 50.09765625%\n"
          ],
          "name": "stdout"
        },
        {
          "output_type": "stream",
          "text": [
            "100%|█████████▉| 15003/15029 [15:13<00:01, 17.04it/s]"
          ],
          "name": "stderr"
        },
        {
          "output_type": "stream",
          "text": [
            "Learning rate: [1.0739071743812784e-07]\n",
            "Current Batch Accuracy: 51.171875%\n"
          ],
          "name": "stdout"
        },
        {
          "output_type": "stream",
          "text": [
            "100%|██████████| 15029/15029 [15:15<00:00, 11.16it/s]\n"
          ],
          "name": "stderr"
        },
        {
          "output_type": "stream",
          "text": [
            "Training Epoch Accuracy: 43.28398352740739%\n"
          ],
          "name": "stdout"
        },
        {
          "output_type": "display_data",
          "data": {
            "image/png": "[encoded data removed]",
            "text/plain": [
              "<Figure size 432x288 with 1 Axes>"
            ]
          },
          "metadata": {
            "tags": []
          }
        },
        {
          "output_type": "stream",
          "text": [
            "\r  0%|          | 0/660 [00:00<?, ?it/s]"
          ],
          "name": "stderr"
        },
        {
          "output_type": "stream",
          "text": [
            "Training loss:  2.171063547196586\n"
          ],
          "name": "stdout"
        },
        {
          "output_type": "stream",
          "text": [
            "\n"
          ],
          "name": "stderr"
        },
        {
          "output_type": "error",
          "ename": "AttributeError",
          "evalue": "ignored",
          "traceback": [
            "\u001b[0;31m---------------------------------------------------------------------------\u001b[0m",
            "\u001b[0;31mAttributeError\u001b[0m                            Traceback (most recent call last)",
            "\u001b[0;32m<ipython-input-19-f0381787101f>\u001b[0m in \u001b[0;36m<module>\u001b[0;34m()\u001b[0m\n\u001b[0;32m----> 1\u001b[0;31m \u001b[0mv\u001b[0m\u001b[0;34m,\u001b[0m\u001b[0mt\u001b[0m\u001b[0;34m=\u001b[0m\u001b[0mrun\u001b[0m\u001b[0;34m(\u001b[0m\u001b[0;34m)\u001b[0m\u001b[0;34m;\u001b[0m\u001b[0;34m\u001b[0m\u001b[0;34m\u001b[0m\u001b[0m\n\u001b[0m",
            "\u001b[0;32m<ipython-input-13-4e591606ccc1>\u001b[0m in \u001b[0;36mrun\u001b[0;34m()\u001b[0m\n\u001b[1;32m      8\u001b[0m         \u001b[0mmodel\u001b[0m \u001b[0;34m=\u001b[0m \u001b[0mFFNN\u001b[0m\u001b[0;34m(\u001b[0m\u001b[0;34m)\u001b[0m\u001b[0;34m\u001b[0m\u001b[0;34m\u001b[0m\u001b[0m\n\u001b[1;32m      9\u001b[0m \u001b[0;34m\u001b[0m\u001b[0m\n\u001b[0;32m---> 10\u001b[0;31m     \u001b[0mval_losses\u001b[0m\u001b[0;34m,\u001b[0m \u001b[0mtrain_losses\u001b[0m \u001b[0;34m=\u001b[0m \u001b[0mtrain\u001b[0m\u001b[0;34m(\u001b[0m\u001b[0mmodel\u001b[0m\u001b[0;34m,\u001b[0m \u001b[0mtrain_loader\u001b[0m\u001b[0;34m,\u001b[0m \u001b[0mval_loader\u001b[0m\u001b[0;34m)\u001b[0m\u001b[0;34m\u001b[0m\u001b[0;34m\u001b[0m\u001b[0m\n\u001b[0m\u001b[1;32m     11\u001b[0m     \u001b[0mplt\u001b[0m\u001b[0;34m.\u001b[0m\u001b[0mplot\u001b[0m\u001b[0;34m(\u001b[0m\u001b[0mval_losses\u001b[0m\u001b[0;34m)\u001b[0m\u001b[0;34m\u001b[0m\u001b[0;34m\u001b[0m\u001b[0m\n\u001b[1;32m     12\u001b[0m     \u001b[0mplt\u001b[0m\u001b[0;34m.\u001b[0m\u001b[0mplot\u001b[0m\u001b[0;34m(\u001b[0m\u001b[0mtrain_losses\u001b[0m\u001b[0;34m)\u001b[0m\u001b[0;34m\u001b[0m\u001b[0;34m\u001b[0m\u001b[0m\n",
            "\u001b[0;32m<ipython-input-7-7eb90c684dd7>\u001b[0m in \u001b[0;36mtrain\u001b[0;34m(model, train_dataloader, val_dataloader)\u001b[0m\n\u001b[1;32m     21\u001b[0m         \u001b[0mprint\u001b[0m\u001b[0;34m(\u001b[0m\u001b[0;34m\"Training loss: \"\u001b[0m\u001b[0;34m,\u001b[0m \u001b[0mtrain_loss\u001b[0m\u001b[0;34m)\u001b[0m\u001b[0;34m\u001b[0m\u001b[0;34m\u001b[0m\u001b[0m\n\u001b[1;32m     22\u001b[0m         \u001b[0mmodel\u001b[0m\u001b[0;34m.\u001b[0m\u001b[0meval\u001b[0m\u001b[0;34m(\u001b[0m\u001b[0;34m)\u001b[0m\u001b[0;34m\u001b[0m\u001b[0;34m\u001b[0m\u001b[0m\n\u001b[0;32m---> 23\u001b[0;31m         \u001b[0mval_loss\u001b[0m \u001b[0;34m=\u001b[0m \u001b[0mrun_one_epoch\u001b[0m\u001b[0;34m(\u001b[0m\u001b[0mmodel\u001b[0m\u001b[0;34m,\u001b[0m \u001b[0mval_dataloader\u001b[0m\u001b[0;34m,\u001b[0m \u001b[0mcriterion\u001b[0m\u001b[0;34m,\u001b[0m \u001b[0;32mFalse\u001b[0m\u001b[0;34m)\u001b[0m\u001b[0;34m\u001b[0m\u001b[0;34m\u001b[0m\u001b[0m\n\u001b[0m\u001b[1;32m     24\u001b[0m         \u001b[0mval_losses\u001b[0m\u001b[0;34m.\u001b[0m\u001b[0mappend\u001b[0m\u001b[0;34m(\u001b[0m\u001b[0mval_loss\u001b[0m\u001b[0;34m)\u001b[0m\u001b[0;34m\u001b[0m\u001b[0;34m\u001b[0m\u001b[0m\n\u001b[1;32m     25\u001b[0m         \u001b[0mprint\u001b[0m\u001b[0;34m(\u001b[0m\u001b[0;34m\"Validation loss: \"\u001b[0m\u001b[0;34m,\u001b[0m \u001b[0mval_loss\u001b[0m\u001b[0;34m)\u001b[0m\u001b[0;34m\u001b[0m\u001b[0;34m\u001b[0m\u001b[0m\n",
            "\u001b[0;32m<ipython-input-18-34af15b768d5>\u001b[0m in \u001b[0;36mrun_one_epoch\u001b[0;34m(model, loader, criterion, update, optimizer, scheduler)\u001b[0m\n\u001b[1;32m     10\u001b[0m         \u001b[0moutput\u001b[0m \u001b[0;34m=\u001b[0m \u001b[0mmodel\u001b[0m\u001b[0;34m(\u001b[0m\u001b[0mx\u001b[0m\u001b[0;34m)\u001b[0m\u001b[0;34m\u001b[0m\u001b[0;34m\u001b[0m\u001b[0m\n\u001b[1;32m     11\u001b[0m         \u001b[0mloss\u001b[0m \u001b[0;34m=\u001b[0m \u001b[0mcriterion\u001b[0m\u001b[0;34m(\u001b[0m\u001b[0moutput\u001b[0m\u001b[0;34m,\u001b[0m \u001b[0my\u001b[0m\u001b[0;34m)\u001b[0m\u001b[0;34m\u001b[0m\u001b[0;34m\u001b[0m\u001b[0m\n\u001b[0;32m---> 12\u001b[0;31m         \u001b[0mlrplot\u001b[0m \u001b[0;34m=\u001b[0m \u001b[0mscheduler\u001b[0m\u001b[0;34m.\u001b[0m\u001b[0mget_lr\u001b[0m\u001b[0;34m(\u001b[0m\u001b[0;34m)\u001b[0m\u001b[0;34m\u001b[0m\u001b[0;34m\u001b[0m\u001b[0m\n\u001b[0m\u001b[1;32m     13\u001b[0m         \u001b[0mlrs\u001b[0m\u001b[0;34m.\u001b[0m\u001b[0mappend\u001b[0m\u001b[0;34m(\u001b[0m\u001b[0mlrplot\u001b[0m\u001b[0;34m)\u001b[0m\u001b[0;34m\u001b[0m\u001b[0;34m\u001b[0m\u001b[0m\n\u001b[1;32m     14\u001b[0m         \u001b[0;32mif\u001b[0m \u001b[0mupdate\u001b[0m\u001b[0;34m:\u001b[0m\u001b[0;34m\u001b[0m\u001b[0;34m\u001b[0m\u001b[0m\n",
            "\u001b[0;31mAttributeError\u001b[0m: 'NoneType' object has no attribute 'get_lr'"
          ]
        }
      ]
    },
    {
      "cell_type": "code",
      "metadata": {
        "id": "0fVxkeVnlebI",
        "colab_type": "code",
        "outputId": "44b27386-651b-4051-9d9c-8d1986d16071",
        "colab": {
          "base_uri": "https://localhost:8080/",
          "height": 282
        }
      },
      "source": [
        "tempo = np.array([2.3753485043843585,2.0615390134580207,1.8913816471894582,1.7839566740122708,\n",
        "         1.7331338983593565,1.6891762694626145,1.7151012378208566,1.6674280624498021,\n",
        "         1.6835154702266057,1.6134144763151805,1.5996342856775632,1.5694274478789532,\n",
        "         1.6674274412971555,1.5510204764026585,1.6405746139360198,1.5249536400491541,\n",
        "         1.4834835471528949,1.5473498891700397,1.4986431845209816,1.4536923199892045,\n",
        "         1.542754511851253,1.4373818435452201,1.3993541067296809,1.433429891051668,\n",
        "         1.3958047336701191,1.4357629985520335,1.5100324656927224,1.399349873625871,\n",
        "         1.3719498879981764,1.3774904342311802,1.3632555172298895,1.3484137666044813,\n",
        "         1.3477942674448995,1.3707056564815117,1.3369793112530852,1.3402825184843756,\n",
        "         1.356912567579385,1.3421990789247282,1.334889861038237,1.3316648706342236,\n",
        "         1.336125900889888,1.335822554339062,1.3355693424289876,1.337578166163329,\n",
        "         1.336651961460258,1.3398560769630201,1.3405852402701521,1.3392708445137198,1.3387861782854253])\n",
        "plt.plot(tempo)"
      ],
      "execution_count": 0,
      "outputs": [
        {
          "output_type": "execute_result",
          "data": {
            "text/plain": [
              "[<matplotlib.lines.Line2D at 0x7f90f9c0a710>]"
            ]
          },
          "metadata": {
            "tags": []
          },
          "execution_count": 23
        },
        {
          "output_type": "display_data",
          "data": {
            "image/png": "[encoded data removed]",
            "text/plain": [
              "<Figure size 432x288 with 1 Axes>"
            ]
          },
          "metadata": {
            "tags": []
          }
        }
      ]
    },
    {
      "cell_type": "markdown",
      "metadata": {
        "id": "iUxuR9Kz02QE",
        "colab_type": "text"
      },
      "source": [
        "## Hyperparam stuff"
      ]
    },
    {
      "cell_type": "code",
      "metadata": {
        "id": "jhJtU4X004a2",
        "colab_type": "code",
        "outputId": "0a5f056f-b8a1-4edd-c0e3-cbff5f28caf9",
        "colab": {
          "base_uri": "https://localhost:8080/",
          "height": 561
        }
      },
      "source": [
        "# lr_finder\n",
        "lr_list = [1e-7, 1e-6, 1e-5, 1e-4, 1e-3]\n",
        "ttrain_loader = get_loader(\"train\")\n",
        "vval_loader = get_loader(\"val\")\n",
        "val_losses = []\n",
        "train_losses = []\n",
        "FRESH = True\n",
        "SANITY = True\n",
        "SANITYSIZE = 1100\n",
        "SANITYEPOCH = 10\n",
        "if FRESH:\n",
        "    mmodel = FFNN()\n",
        "    mmodel.save()\n",
        "for lr in lr_list:\n",
        "    LEARNING_RATE=lr\n",
        "    val, trains = train(mmodel, ttrain_loader, vval_loader)\n",
        "    val_losses.extend(val)\n",
        "    train_losses.extend(trains)\n",
        "plt.plot(val_losses)\n",
        "plt.plot(train_losses)\n",
        "plt.xlabel(\"Learning rate\")\n",
        "plt.ylabel(\"Loss\")\n",
        "#plt.xticks(range(0,SANITYEPOCH*len(lr_list),10), map(str, lr_list))\n",
        "        \n",
        "\n"
      ],
      "execution_count": 0,
      "outputs": [
        {
          "output_type": "stream",
          "text": [
            "train Dataset Size: 667411\n",
            "val Dataset Size: 675836\n",
            "Begin training\n",
            "Epoch:  1\n",
            "Learning Rate:  1e-07\n",
            "Training loss:  4.924452876934976\n",
            "Validation loss:  4.924017782644792\n",
            "Saving Model....\n",
            "Time :36.21047854423523s\n",
            "Epoch:  2\n",
            "Learning Rate:  1e-07\n"
          ],
          "name": "stdout"
        },
        {
          "output_type": "error",
          "ename": "KeyboardInterrupt",
          "evalue": "ignored",
          "traceback": [
            "\u001b[0;31m---------------------------------------------------------------------------\u001b[0m",
            "\u001b[0;31mKeyboardInterrupt\u001b[0m                         Traceback (most recent call last)",
            "\u001b[0;32m<ipython-input-66-1093e14878a2>\u001b[0m in \u001b[0;36m<module>\u001b[0;34m()\u001b[0m\n\u001b[1;32m     13\u001b[0m \u001b[0;32mfor\u001b[0m \u001b[0mlr\u001b[0m \u001b[0;32min\u001b[0m \u001b[0mlr_list\u001b[0m\u001b[0;34m:\u001b[0m\u001b[0;34m\u001b[0m\u001b[0;34m\u001b[0m\u001b[0m\n\u001b[1;32m     14\u001b[0m     \u001b[0mLEARNING_RATE\u001b[0m\u001b[0;34m=\u001b[0m\u001b[0mlr\u001b[0m\u001b[0;34m\u001b[0m\u001b[0;34m\u001b[0m\u001b[0m\n\u001b[0;32m---> 15\u001b[0;31m     \u001b[0mval\u001b[0m\u001b[0;34m,\u001b[0m \u001b[0mtrains\u001b[0m \u001b[0;34m=\u001b[0m \u001b[0mtrain\u001b[0m\u001b[0;34m(\u001b[0m\u001b[0mmmodel\u001b[0m\u001b[0;34m,\u001b[0m \u001b[0mttrain_loader\u001b[0m\u001b[0;34m,\u001b[0m \u001b[0mvval_loader\u001b[0m\u001b[0;34m)\u001b[0m\u001b[0;34m\u001b[0m\u001b[0;34m\u001b[0m\u001b[0m\n\u001b[0m\u001b[1;32m     16\u001b[0m     \u001b[0mval_losses\u001b[0m\u001b[0;34m.\u001b[0m\u001b[0mextend\u001b[0m\u001b[0;34m(\u001b[0m\u001b[0mval\u001b[0m\u001b[0;34m)\u001b[0m\u001b[0;34m\u001b[0m\u001b[0;34m\u001b[0m\u001b[0m\n\u001b[1;32m     17\u001b[0m     \u001b[0mtrain_losses\u001b[0m\u001b[0;34m.\u001b[0m\u001b[0mextend\u001b[0m\u001b[0;34m(\u001b[0m\u001b[0mtrains\u001b[0m\u001b[0;34m)\u001b[0m\u001b[0;34m\u001b[0m\u001b[0;34m\u001b[0m\u001b[0m\n",
            "\u001b[0;32m<ipython-input-60-4240881e2aff>\u001b[0m in \u001b[0;36mtrain\u001b[0;34m(model, train_dataloader, val_dataloader)\u001b[0m\n\u001b[1;32m     18\u001b[0m         \u001b[0mprint\u001b[0m\u001b[0;34m(\u001b[0m\u001b[0;34m\"Learning Rate: \"\u001b[0m\u001b[0;34m,\u001b[0m \u001b[0mlr\u001b[0m\u001b[0;34m)\u001b[0m\u001b[0;34m\u001b[0m\u001b[0;34m\u001b[0m\u001b[0m\n\u001b[1;32m     19\u001b[0m         \u001b[0mmodel\u001b[0m\u001b[0;34m.\u001b[0m\u001b[0mtrain\u001b[0m\u001b[0;34m(\u001b[0m\u001b[0;34m)\u001b[0m\u001b[0;34m\u001b[0m\u001b[0;34m\u001b[0m\u001b[0m\n\u001b[0;32m---> 20\u001b[0;31m         \u001b[0mtrain_loss\u001b[0m \u001b[0;34m=\u001b[0m \u001b[0mrun_one_epoch\u001b[0m\u001b[0;34m(\u001b[0m\u001b[0mmodel\u001b[0m\u001b[0;34m,\u001b[0m \u001b[0mtrain_dataloader\u001b[0m\u001b[0;34m,\u001b[0m \u001b[0mcriterion\u001b[0m\u001b[0;34m,\u001b[0m \u001b[0;32mTrue\u001b[0m\u001b[0;34m,\u001b[0m \u001b[0moptimizer\u001b[0m\u001b[0;34m)\u001b[0m\u001b[0;34m\u001b[0m\u001b[0;34m\u001b[0m\u001b[0m\n\u001b[0m\u001b[1;32m     21\u001b[0m         \u001b[0mtrain_losses\u001b[0m\u001b[0;34m.\u001b[0m\u001b[0mextend\u001b[0m\u001b[0;34m(\u001b[0m\u001b[0mtrain_loss\u001b[0m\u001b[0;34m[\u001b[0m\u001b[0;36m1\u001b[0m\u001b[0;34m]\u001b[0m\u001b[0;34m)\u001b[0m\u001b[0;34m\u001b[0m\u001b[0;34m\u001b[0m\u001b[0m\n\u001b[1;32m     22\u001b[0m         \u001b[0mprint\u001b[0m\u001b[0;34m(\u001b[0m\u001b[0;34m\"Training loss: \"\u001b[0m\u001b[0;34m,\u001b[0m \u001b[0mtrain_loss\u001b[0m\u001b[0;34m[\u001b[0m\u001b[0;36m0\u001b[0m\u001b[0;34m]\u001b[0m\u001b[0;34m)\u001b[0m\u001b[0;34m\u001b[0m\u001b[0;34m\u001b[0m\u001b[0m\n",
            "\u001b[0;32m<ipython-input-57-c9087e095f9c>\u001b[0m in \u001b[0;36mrun_one_epoch\u001b[0;34m(model, loader, criterion, update, optimizer)\u001b[0m\n\u001b[1;32m      9\u001b[0m         \u001b[0;32mif\u001b[0m \u001b[0mupdate\u001b[0m\u001b[0;34m:\u001b[0m\u001b[0;34m\u001b[0m\u001b[0;34m\u001b[0m\u001b[0m\n\u001b[1;32m     10\u001b[0m             \u001b[0mloss\u001b[0m\u001b[0;34m.\u001b[0m\u001b[0mbackward\u001b[0m\u001b[0;34m(\u001b[0m\u001b[0;34m)\u001b[0m\u001b[0;34m\u001b[0m\u001b[0;34m\u001b[0m\u001b[0m\n\u001b[0;32m---> 11\u001b[0;31m             \u001b[0moptimizer\u001b[0m\u001b[0;34m.\u001b[0m\u001b[0mstep\u001b[0m\u001b[0;34m(\u001b[0m\u001b[0;34m)\u001b[0m\u001b[0;34m\u001b[0m\u001b[0;34m\u001b[0m\u001b[0m\n\u001b[0m\u001b[1;32m     12\u001b[0m             \u001b[0moptimizer\u001b[0m\u001b[0;34m.\u001b[0m\u001b[0mzero_grad\u001b[0m\u001b[0;34m(\u001b[0m\u001b[0;34m)\u001b[0m\u001b[0;34m\u001b[0m\u001b[0;34m\u001b[0m\u001b[0m\n\u001b[1;32m     13\u001b[0m         \u001b[0mplotloss\u001b[0m\u001b[0;34m.\u001b[0m\u001b[0mappend\u001b[0m\u001b[0;34m(\u001b[0m\u001b[0mloss\u001b[0m\u001b[0;34m.\u001b[0m\u001b[0mcpu\u001b[0m\u001b[0;34m(\u001b[0m\u001b[0;34m)\u001b[0m\u001b[0;34m.\u001b[0m\u001b[0mdetach\u001b[0m\u001b[0;34m(\u001b[0m\u001b[0;34m)\u001b[0m\u001b[0;34m.\u001b[0m\u001b[0mnumpy\u001b[0m\u001b[0;34m(\u001b[0m\u001b[0;34m)\u001b[0m\u001b[0;34m.\u001b[0m\u001b[0mitem\u001b[0m\u001b[0;34m(\u001b[0m\u001b[0;34m)\u001b[0m\u001b[0;34m)\u001b[0m\u001b[0;34m\u001b[0m\u001b[0;34m\u001b[0m\u001b[0m\n",
            "\u001b[0;32m/usr/local/lib/python3.6/dist-packages/torch/optim/adam.py\u001b[0m in \u001b[0;36mstep\u001b[0;34m(self, closure)\u001b[0m\n\u001b[1;32m    101\u001b[0m                     \u001b[0mdenom\u001b[0m \u001b[0;34m=\u001b[0m \u001b[0;34m(\u001b[0m\u001b[0mmax_exp_avg_sq\u001b[0m\u001b[0;34m.\u001b[0m\u001b[0msqrt\u001b[0m\u001b[0;34m(\u001b[0m\u001b[0;34m)\u001b[0m \u001b[0;34m/\u001b[0m \u001b[0mmath\u001b[0m\u001b[0;34m.\u001b[0m\u001b[0msqrt\u001b[0m\u001b[0;34m(\u001b[0m\u001b[0mbias_correction2\u001b[0m\u001b[0;34m)\u001b[0m\u001b[0;34m)\u001b[0m\u001b[0;34m.\u001b[0m\u001b[0madd_\u001b[0m\u001b[0;34m(\u001b[0m\u001b[0mgroup\u001b[0m\u001b[0;34m[\u001b[0m\u001b[0;34m'eps'\u001b[0m\u001b[0;34m]\u001b[0m\u001b[0;34m)\u001b[0m\u001b[0;34m\u001b[0m\u001b[0;34m\u001b[0m\u001b[0m\n\u001b[1;32m    102\u001b[0m                 \u001b[0;32melse\u001b[0m\u001b[0;34m:\u001b[0m\u001b[0;34m\u001b[0m\u001b[0;34m\u001b[0m\u001b[0m\n\u001b[0;32m--> 103\u001b[0;31m                     \u001b[0mdenom\u001b[0m \u001b[0;34m=\u001b[0m \u001b[0;34m(\u001b[0m\u001b[0mexp_avg_sq\u001b[0m\u001b[0;34m.\u001b[0m\u001b[0msqrt\u001b[0m\u001b[0;34m(\u001b[0m\u001b[0;34m)\u001b[0m \u001b[0;34m/\u001b[0m \u001b[0mmath\u001b[0m\u001b[0;34m.\u001b[0m\u001b[0msqrt\u001b[0m\u001b[0;34m(\u001b[0m\u001b[0mbias_correction2\u001b[0m\u001b[0;34m)\u001b[0m\u001b[0;34m)\u001b[0m\u001b[0;34m.\u001b[0m\u001b[0madd_\u001b[0m\u001b[0;34m(\u001b[0m\u001b[0mgroup\u001b[0m\u001b[0;34m[\u001b[0m\u001b[0;34m'eps'\u001b[0m\u001b[0;34m]\u001b[0m\u001b[0;34m)\u001b[0m\u001b[0;34m\u001b[0m\u001b[0;34m\u001b[0m\u001b[0m\n\u001b[0m\u001b[1;32m    104\u001b[0m \u001b[0;34m\u001b[0m\u001b[0m\n\u001b[1;32m    105\u001b[0m                 \u001b[0mstep_size\u001b[0m \u001b[0;34m=\u001b[0m \u001b[0mgroup\u001b[0m\u001b[0;34m[\u001b[0m\u001b[0;34m'lr'\u001b[0m\u001b[0;34m]\u001b[0m \u001b[0;34m/\u001b[0m \u001b[0mbias_correction1\u001b[0m\u001b[0;34m\u001b[0m\u001b[0;34m\u001b[0m\u001b[0m\n",
            "\u001b[0;31mKeyboardInterrupt\u001b[0m: "
          ]
        }
      ]
    },
    {
      "cell_type": "markdown",
      "metadata": {
        "id": "Hezn5ZEJ-Hxm",
        "colab_type": "text"
      },
      "source": [
        "## Prediction"
      ]
    },
    {
      "cell_type": "code",
      "metadata": {
        "id": "D_jZohZA-Jh6",
        "colab_type": "code",
        "outputId": "06824221-0454-4d45-8ecc-cfe7e5243c85",
        "colab": {
          "base_uri": "https://localhost:8080/",
          "height": 34
        }
      },
      "source": [
        "model = FFNN.load()\n",
        "test = get_loader(\"test\")\n",
        "results = get_predictions(model, test)\n",
        "tmp = list(zip(range(len(results)), results))\n",
        "with open('predt680v639.csv', 'w') as f:\n",
        "    writer = csv.writer(f)\n",
        "    writer.writerow(['id','label'])\n",
        "    writer.writerows(tmp)"
      ],
      "execution_count": 0,
      "outputs": [
        {
          "output_type": "stream",
          "text": [
            "test Dataset Size: 223592\n"
          ],
          "name": "stdout"
        }
      ]
    },
    {
      "cell_type": "markdown",
      "metadata": {
        "id": "8GCB-ci-3eNc",
        "colab_type": "text"
      },
      "source": [
        "# Testing MNIST\n",
        "\n"
      ]
    },
    {
      "cell_type": "code",
      "metadata": {
        "id": "bPtVEhOjhi1g",
        "colab_type": "code",
        "colab": {}
      },
      "source": [
        "mnist_train = np.load(\"../data/train.npy\")\n",
        "mnist_train_labels = np.load(\"../data/train_labels.npy\")\n",
        "mnist_dev = np.load(\"../data/dev.npy\")\n",
        "mnist_dev_labels = np.load(\"../data/dev_labels.npy\")\n"
      ],
      "execution_count": 0,
      "outputs": []
    },
    {
      "cell_type": "code",
      "metadata": {
        "id": "8wQfGnyjh4U_",
        "colab_type": "code",
        "outputId": "fa870e29-5823-4599-ba3c-77255dcc1ddc",
        "colab": {
          "base_uri": "https://localhost:8080/",
          "height": 1000
        }
      },
      "source": [
        "print(mnist_train.shape,mnist_train_labels.shape, mnist_dev.shape,mnist_dev_labels.shape)\n",
        "\n",
        "class MNIST_dataset(Dataset):\n",
        "  def __init__(self, X, Y):\n",
        "    self.X = torch.from_numpy(X).float()\n",
        "    self.Y = torch.from_numpy(Y).long()\n",
        "  \n",
        "  def __len__(self):\n",
        "    return len(self.Y)\n",
        "\n",
        "  def __getitem__(self, index):\n",
        "    return self.X[index], self.Y[index]\n",
        "\n",
        "mnist_train_data = MNIST_dataset(mnist_train, mnist_train_labels)\n",
        "mnist_dev_data = MNIST_dataset(mnist_dev, mnist_dev_labels)\n",
        "mnist_train_dataloader = DataLoader(mnist_train_data,batch_size=BATCH_SIZE,shuffle=True)\n",
        "mnist_dev_dataloader = DataLoader(mnist_dev_data,batch_size=BATCH_SIZE,shuffle=False)\n",
        "\n",
        "model = FFNN()\n",
        "val_losses, train_losses = train(model, mnist_train_dataloader, mnist_dev_dataloader)\n",
        "plt.plot(val_losses)\n",
        "plt.plot(train_losses)\n",
        "plt.title(\"Validation Loss\");\n",
        "plt.xlabel(\"Iterations\");\n",
        "plt.ylabel(\"Loss\");\n"
      ],
      "execution_count": 0,
      "outputs": [
        {
          "output_type": "stream",
          "text": [
            "(50000, 784) (50000,) (10000, 784) (10000,)\n",
            "Begin training\n",
            "Epoch:  1\n",
            "Learning rate: [3.9999999999999956e-07]\n",
            "Training Epoch Accuracy: 27.014%\n",
            "Training loss:  2.209235254760898\n",
            "Validation Epoch Accuracy: 64.78%\n",
            "Validation loss:  1.6154187560840776\n",
            "Saving Model....\n",
            "Time :3.879451274871826s\n",
            "Epoch:  2\n",
            "Learning rate: [2.801856579744565e-06]\n",
            "Training Epoch Accuracy: 84.382%\n",
            "Training loss:  0.5975573842539964\n",
            "Validation Epoch Accuracy: 91.45%\n",
            "Validation loss:  0.2898275336357439\n",
            "Saving Model....\n",
            "Time :3.834383726119995s\n",
            "Epoch:  3\n",
            "Learning rate: [7.6037117232856525e-06]\n",
            "Training Epoch Accuracy: 92.376%\n",
            "Training loss:  0.26428379548137143\n",
            "Validation Epoch Accuracy: 93.82%\n",
            "Validation loss:  0.21017339728345538\n",
            "Saving Model....\n",
            "Time :3.778704881668091s\n",
            "Epoch:  4\n",
            "Learning rate: [9.999999176566715e-06]\n",
            "Training Epoch Accuracy: 94.254%\n",
            "Training loss:  0.19390377388966967\n",
            "Validation Epoch Accuracy: 95.51%\n",
            "Validation loss:  0.1572481741903314\n",
            "Saving Model....\n",
            "Time :3.807025194168091s\n",
            "Epoch:  5\n",
            "Learning rate: [9.503600528520866e-06]\n",
            "Training Epoch Accuracy: 95.4%\n",
            "Training loss:  0.15484527100230117\n",
            "Validation Epoch Accuracy: 95.91%\n",
            "Validation loss:  0.1399880231233539\n",
            "Saving Model....\n",
            "Time :3.8118104934692383s\n",
            "Epoch:  6\n",
            "Learning rate: [8.115212524010932e-06]\n",
            "Training Epoch Accuracy: 96.188%\n",
            "Training loss:  0.1293935276891874\n",
            "Validation Epoch Accuracy: 96.42%\n",
            "Validation loss:  0.12560607509533311\n",
            "Saving Model....\n",
            "Time :3.8244893550872803s\n",
            "Epoch:  7\n",
            "Learning rate: [6.109822434791551e-06]\n",
            "Training Epoch Accuracy: 96.682%\n",
            "Training loss:  0.11263364653967683\n",
            "Validation Epoch Accuracy: 96.58%\n",
            "Validation loss:  0.12110496824903852\n",
            "Saving Model....\n",
            "Time :3.910836696624756s\n",
            "Epoch:  8\n",
            "Learning rate: [3.8846223625280535e-06]\n",
            "Training Epoch Accuracy: 97.038%\n",
            "Training loss:  0.10076275858504083\n",
            "Validation Epoch Accuracy: 96.65%\n",
            "Validation loss:  0.11581181718190764\n",
            "Saving Model....\n",
            "Time :3.8230111598968506s\n",
            "Epoch:  9\n",
            "Learning rate: [1.880340471820184e-06]\n",
            "Training Epoch Accuracy: 97.246%\n",
            "Training loss:  0.09399579521125692\n",
            "Validation Epoch Accuracy: 96.8%\n",
            "Validation loss:  0.11414919012955799\n",
            "Saving Model....\n",
            "Time :3.7279415130615234s\n",
            "Epoch:  10\n",
            "Learning rate: [4.939493720269017e-07]\n",
            "Training Epoch Accuracy: 97.348%\n",
            "Training loss:  0.09097330108084871\n",
            "Validation Epoch Accuracy: 96.76%\n",
            "Validation loss:  0.11401999423837965\n",
            "Saving Model....\n",
            "Time :3.7899069786071777s\n"
          ],
          "name": "stdout"
        },
        {
          "output_type": "display_data",
          "data": {
            "image/png": "[encoded data removed]",
            "text/plain": [
              "<Figure size 432x288 with 1 Axes>"
            ]
          },
          "metadata": {
            "tags": []
          }
        }
      ]
    }
  ]
}